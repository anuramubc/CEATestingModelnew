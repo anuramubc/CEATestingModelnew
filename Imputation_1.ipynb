{
 "cells": [
  {
   "cell_type": "code",
   "execution_count": 3,
   "id": "8cd1711c-47a8-43f7-8d24-3f0164b7732e",
   "metadata": {},
   "outputs": [],
   "source": [
    "import pandas as pd\n",
    "import numpy as np\n",
    "import os\n",
    "import pandas as pd\n",
    "\n",
    "from fancyimpute import IterativeImputer\n",
    "from functools import reduce\n",
    "\n",
    "from sklearn.experimental import enable_iterative_imputer  # noqa\n",
    "from sklearn.impute import IterativeImputer\n",
    "\n",
    "### OUTPUT: 'META' DATAFRAME FOR THE FOLLOWING STPES\n",
    "\n",
    "## Merging patient visit and patient info\n",
    "def create_var(patient_visit, patient_info):\n",
    "    '''A function that takes in deid_cea_v2.csv and Final dataset prep_072521.csv to\n",
    "    create all necessary variables. \n",
    "    Input those the two files and will return a combined file with all the new variables.\n",
    "    '''\n",
    "    ## Merging patient visit and patient meta\n",
    "    df = patient_info.merge(patient_visit,on=\"PID\", how='outer').sort_index()\n",
    "\n",
    "    ## Creating all variables \n",
    "    # How long from the start of surveillance\n",
    "    df['days_from_surveil'] = df['dx2cea'] - df['dx2surveildate'] \n",
    "\n",
    "    # How long from the previous visit\n",
    "    df['days_from_last_visit'] = df['dx2cea'].diff() \n",
    "\n",
    "    # How long from the start of surveillance to their first visit\n",
    "    df['first_visit_from_surveil'] = df.groupby('PID').head(1)['dx2cea'] - df.groupby('PID').head(1)['dx2surveildate']\n",
    "    df['first_visit_from_surveil'] = df['first_visit_from_surveil'].ffill()\n",
    "\n",
    "    # CEA value from previous visit \n",
    "    df['cea_prev_visit'] = df['value'].shift(1)\n",
    "    \n",
    "    # If CEA value >5, then higher chance of reoccurrence\n",
    "    # First creating new value variable (value1) to convert all values into numeric to perform logic \n",
    "    df['value1'] = df['value'].astype(str)\n",
    "    df['value1'] = df['value1'].str.replace('<', '').str.replace('>', '')\n",
    "    df['value1'] = pd.to_numeric(df['value1'], errors = 'coerce')\n",
    "    df['chances_of_recur'] = np.where(df['value1'] > 5, 1, 0)\n",
    "\n",
    "    # Patient revisits every 90 days \n",
    "    df['return_visit'] = np.where(df.groupby('PID')['dx2cea'].diff() <= 90, 1, 0)\n",
    "    return df\n",
    "\n",
    "\n",
    "def combine_physid(directory, pattern):\n",
    "    \"\"\"A function that reads in all the physician characteristics files *md*.csv. \n",
    "    Then comibne all the physical characteristics files. \n",
    "    \"\"\"\n",
    "    # Use glob to find all files matching the pattern\n",
    "    file_pattern = os.path.join(directory, pattern)\n",
    "    csv_files = glob.glob(file_pattern)\n",
    "\n",
    "    # Create an empty list to store individual DataFrames\n",
    "    dataframes = []\n",
    "\n",
    "    # Read each CSV file and append its contents to the list\n",
    "    for csv_file in csv_files:\n",
    "        df = pd.read_csv(csv_file, encoding='windows-1254')\n",
    "        dataframes.append(df)\n",
    "\n",
    "    # Concatenate all DataFrames in the list into a single DataFrame\n",
    "    combined_data = reduce(lambda x, y: pd.merge(x, y, on = 'physid'), dataframes)\n",
    "    return combined_data\n"
   ]
  },
  {
   "cell_type": "code",
   "execution_count": 4,
   "id": "f9c065b1-4cd8-4eb8-9ca6-c1f2215edc7a",
   "metadata": {},
   "outputs": [],
   "source": [
    "import pandas as pd\n",
    "import numpy as np\n",
    "import os\n",
    "import glob\n",
    "from functools import reduce\n",
    "import sys\n",
    "\n",
    "sys.path.append(\"./data_processing/\")\n",
    "from create_variable import create_var, combine_physid\n",
    "\n",
    "### Data Processing\n",
    "# Read in data\n",
    "patient_visit = pd.read_csv(\"./data/deid_cea_v2.csv\") # Patient revisit after surveillance \n",
    "patient_info = pd.read_csv(\"./data/Final dataset prep_072521.csv\") # All features data\n",
    "patient = create_var(patient_visit, patient_info)\n",
    "\n",
    "# Read in physician data and combine all physician data\n",
    "directory_path = \"./data/\"\n",
    "physid_pattern = \"*md*.csv\"\n",
    "phys_meta = combine_physid(directory_path, physid_pattern)\n",
    "\n",
    "# Combine patient_meta and physician_meta to create a meta file for downstream\n",
    "patient_phys_info = patient.merge(phys_meta, how=\"left\", left_on=\"physid_x\", right_on=\"physid\").drop(columns=['physid_x', 'physid_y']) # use \"patient_phys_info\" dataframe to continue working in dataframe\n",
    "patient_phys_info.to_csv(\"./data/patient_phys_info.csv\") # use \"patient_phys_info.csv\" to read in the information and continue working in another file\n",
    "\n",
    "### Clean up Nans\n",
    "### Model\n",
    "### Model fitting"
   ]
  },
  {
   "cell_type": "code",
   "execution_count": 5,
   "id": "52ded5b3-098e-41a4-b647-8b4f12261e03",
   "metadata": {},
   "outputs": [
    {
     "data": {
      "text/plain": [
       "True"
      ]
     },
     "execution_count": 5,
     "metadata": {},
     "output_type": "execute_result"
    }
   ],
   "source": [
    "#Exploratory Data Analysis\n",
    "#Exploratory data analysis should describe the missingness\n",
    "patient_phys_info.isnull().values.any()"
   ]
  },
  {
   "cell_type": "code",
   "execution_count": 6,
   "id": "d6b93198-9cac-4764-876e-ba9da426f9f3",
   "metadata": {},
   "outputs": [],
   "source": [
    "#Number of missing values for each variable\n",
    "mis_val_var_specific=(patient_phys_info.isnull().sum())"
   ]
  },
  {
   "cell_type": "code",
   "execution_count": 7,
   "id": "b347cd80-a480-4114-b93e-967d65db4b64",
   "metadata": {},
   "outputs": [],
   "source": [
    "pd.set_option('display.max_rows', None)  # Set to None to display all rows"
   ]
  },
  {
   "cell_type": "code",
   "execution_count": 10,
   "id": "1286e95d-cb87-481a-bd2b-5b52fb1b01d4",
   "metadata": {},
   "outputs": [],
   "source": [
    "#Unique number of patients\n",
    "unique_patient_ids = patient_phys_info['PID'].nunique()"
   ]
  },
  {
   "cell_type": "code",
   "execution_count": 11,
   "id": "c8fcc10d-b4f7-4486-92f0-ca91439b919e",
   "metadata": {},
   "outputs": [
    {
     "data": {
      "text/plain": [
       "6571"
      ]
     },
     "execution_count": 11,
     "metadata": {},
     "output_type": "execute_result"
    }
   ],
   "source": [
    "unique_patient_ids"
   ]
  },
  {
   "cell_type": "code",
   "execution_count": 12,
   "id": "93781ce4-fe4f-43a2-b64c-0158c5c01d70",
   "metadata": {},
   "outputs": [],
   "source": [
    "# Calculate the sum of the number of rows\n",
    "num_rows_df = patient_phys_info.shape[0]"
   ]
  },
  {
   "cell_type": "code",
   "execution_count": 13,
   "id": "fc40678e-fcd6-4ead-805b-9d76dffbfa92",
   "metadata": {},
   "outputs": [
    {
     "data": {
      "text/plain": [
       "569781"
      ]
     },
     "execution_count": 13,
     "metadata": {},
     "output_type": "execute_result"
    }
   ],
   "source": [
    "num_rows_df"
   ]
  },
  {
   "cell_type": "code",
   "execution_count": 15,
   "id": "19c4b0f2-c6dc-4a44-ada4-b02849298490",
   "metadata": {},
   "outputs": [],
   "source": [
    "#Complete-Case Analysis\n",
    "complete_cases_count = patient_phys_info.dropna().count()"
   ]
  },
  {
   "cell_type": "code",
   "execution_count": 16,
   "id": "4cc727df-aa7d-4904-a797-d68405c2be5b",
   "metadata": {},
   "outputs": [
    {
     "data": {
      "text/plain": [
       "True"
      ]
     },
     "execution_count": 16,
     "metadata": {},
     "output_type": "execute_result"
    }
   ],
   "source": [
    "patient_phys_info.isnull().values.any()"
   ]
  },
  {
   "cell_type": "code",
   "execution_count": 17,
   "id": "e72511d8-62b5-4a94-9b18-22d567d997e5",
   "metadata": {},
   "outputs": [],
   "source": [
    "# Columns to be removed\n",
    "#'rt_sx', 'earlychemoname', 'earlychemorecur', and 'as.numeric.NA\n",
    "columns_to_remove = ['rt_sx', 'earlychemoname', 'earlychemorecur','as.numeric.NA.']\n",
    "\n",
    "# Drop specified columns\n",
    "df_removed = patient_phys_info.drop(columns=columns_to_remove)\n",
    "\n",
    "# Assuming your data is in a DataFrame named 'df'\n",
    "# Replace 'your_dataset.csv' with the actual file path or URL to your dataset\n",
    "# df = pd.read_csv('your_dataset.csv')\n",
    "\n",
    "from sklearn.impute import SimpleImputer\n",
    "\n",
    "# simple imputation using IterativeImputer\n",
    "imp = SimpleImputer(strategy=\"most_frequent\")\n",
    "#print('Number of missing values for each variable:')\n",
    "pd.set_option('display.max_rows', None)  \n",
    "#print(imp.fit_transform(df_removed))"
   ]
  },
  {
   "cell_type": "code",
   "execution_count": null,
   "id": "20780523-effa-4019-98c8-6df51839b9e2",
   "metadata": {},
   "outputs": [],
   "source": [
    "df_removed.head()"
   ]
  },
  {
   "cell_type": "code",
   "execution_count": null,
   "id": "6456105c-d028-4a41-8216-8f80efdd4b99",
   "metadata": {},
   "outputs": [],
   "source": [
    "# Check for missing values in each column\n",
    "missing_values = df_removed.isnull().sum()\n",
    "\n",
    "# Print the variables with missing values\n",
    "print(\"Variables with missing values:\")\n",
    "print(missing_values[missing_values > 0])"
   ]
  },
  {
   "cell_type": "code",
   "execution_count": 18,
   "id": "cbe6f6e9-3535-40ae-9b4e-09945a454be1",
   "metadata": {},
   "outputs": [],
   "source": [
    "df_filled_mode = df_removed.fillna(df_removed.mode().iloc[0])  # Using iloc[0] to get the first mode if multiple modes exist"
   ]
  },
  {
   "cell_type": "code",
   "execution_count": null,
   "id": "10ccae14-c071-45bc-b76f-409d42ccf9a4",
   "metadata": {},
   "outputs": [],
   "source": [
    "df_filled_mode.head()"
   ]
  },
  {
   "cell_type": "code",
   "execution_count": null,
   "id": "b2245609-8973-4f5b-bfcb-84169e6dd552",
   "metadata": {},
   "outputs": [],
   "source": [
    "df_filled_mode.tail()"
   ]
  },
  {
   "cell_type": "code",
   "execution_count": 19,
   "id": "a0959a57-cef5-4533-992a-e189a90c217c",
   "metadata": {},
   "outputs": [
    {
     "data": {
      "text/plain": [
       "False"
      ]
     },
     "execution_count": 19,
     "metadata": {},
     "output_type": "execute_result"
    }
   ],
   "source": [
    "df_filled_mode.isnull().values.any()"
   ]
  },
  {
   "cell_type": "code",
   "execution_count": null,
   "id": "f4352734-a866-447d-a9a8-8787ecd5d5cc",
   "metadata": {},
   "outputs": [],
   "source": []
  }
 ],
 "metadata": {
  "kernelspec": {
   "display_name": "Python 3 (ipykernel)",
   "language": "python",
   "name": "python3"
  },
  "language_info": {
   "codemirror_mode": {
    "name": "ipython",
    "version": 3
   },
   "file_extension": ".py",
   "mimetype": "text/x-python",
   "name": "python",
   "nbconvert_exporter": "python",
   "pygments_lexer": "ipython3",
   "version": "3.11.6"
  },
  "widgets": {
   "application/vnd.jupyter.widget-state+json": {
    "state": {},
    "version_major": 2,
    "version_minor": 0
   }
  }
 },
 "nbformat": 4,
 "nbformat_minor": 5
}
